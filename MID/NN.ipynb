{
 "cells": [
  {
   "cell_type": "code",
   "execution_count": 1,
   "id": "1f1e557d",
   "metadata": {
    "execution": {
     "iopub.execute_input": "2025-08-22T10:41:41.984558Z",
     "iopub.status.busy": "2025-08-22T10:41:41.984022Z",
     "iopub.status.idle": "2025-08-22T10:41:44.547190Z",
     "shell.execute_reply": "2025-08-22T10:41:44.546596Z"
    },
    "papermill": {
     "duration": 2.568963,
     "end_time": "2025-08-22T10:41:44.548770",
     "exception": false,
     "start_time": "2025-08-22T10:41:41.979807",
     "status": "completed"
    },
    "tags": []
   },
   "outputs": [],
   "source": [
    "import numpy as np\n",
    "import matplotlib.pyplot as plt\n",
    "import pandas as pd\n",
    "from sklearn.metrics import accuracy_score, precision_score, recall_score, f1_score, classification_report\n",
    "import random\n"
   ]
  },
  {
   "cell_type": "code",
   "execution_count": 2,
   "id": "a6e77ea6",
   "metadata": {
    "execution": {
     "iopub.execute_input": "2025-08-22T10:41:44.555413Z",
     "iopub.status.busy": "2025-08-22T10:41:44.555086Z",
     "iopub.status.idle": "2025-08-22T10:41:44.570937Z",
     "shell.execute_reply": "2025-08-22T10:41:44.570153Z"
    },
    "papermill": {
     "duration": 0.020268,
     "end_time": "2025-08-22T10:41:44.572102",
     "exception": false,
     "start_time": "2025-08-22T10:41:44.551834",
     "status": "completed"
    },
    "tags": []
   },
   "outputs": [
    {
     "name": "stdout",
     "output_type": "stream",
     "text": [
      "CSV file saved as data.csv\n"
     ]
    }
   ],
   "source": [
    "np.random.seed(42)\n",
    "\n",
    "# total samples = 400 (5 classes → 80 each)\n",
    "n_classes = 5\n",
    "samples_per_class = 80\n",
    "\n",
    "X, Y, labels = [], [], []\n",
    "\n",
    "# cluster centers for 5 classes\n",
    "centers = [(2, 2), (6, 2), (2, 6), (6, 6), (4, 4)]\n",
    "\n",
    "for label, (cx, cy) in enumerate(centers):\n",
    "    X.extend(np.random.normal(cx, 0.5, samples_per_class))\n",
    "    Y.extend(np.random.normal(cy, 0.5, samples_per_class))\n",
    "    labels.extend([label] * samples_per_class)\n",
    "\n",
    "# make dataframe\n",
    "df = pd.DataFrame({\n",
    "    \"X\": X,\n",
    "    \"Y\": Y,\n",
    "    \"LABEL\": labels\n",
    "})\n",
    "\n",
    "# save to CSV\n",
    "df.to_csv(\"data.csv\", index=False)\n",
    "print(\"CSV file saved as data.csv\")\n"
   ]
  },
  {
   "cell_type": "code",
   "execution_count": 3,
   "id": "d64b7c52",
   "metadata": {
    "execution": {
     "iopub.execute_input": "2025-08-22T10:41:44.578526Z",
     "iopub.status.busy": "2025-08-22T10:41:44.578284Z",
     "iopub.status.idle": "2025-08-22T10:41:44.605370Z",
     "shell.execute_reply": "2025-08-22T10:41:44.604658Z"
    },
    "papermill": {
     "duration": 0.031224,
     "end_time": "2025-08-22T10:41:44.606410",
     "exception": false,
     "start_time": "2025-08-22T10:41:44.575186",
     "status": "completed"
    },
    "tags": []
   },
   "outputs": [
    {
     "name": "stdout",
     "output_type": "stream",
     "text": [
      "(400, 3)\n"
     ]
    },
    {
     "data": {
      "text/html": [
       "<div>\n",
       "<style scoped>\n",
       "    .dataframe tbody tr th:only-of-type {\n",
       "        vertical-align: middle;\n",
       "    }\n",
       "\n",
       "    .dataframe tbody tr th {\n",
       "        vertical-align: top;\n",
       "    }\n",
       "\n",
       "    .dataframe thead th {\n",
       "        text-align: right;\n",
       "    }\n",
       "</style>\n",
       "<table border=\"1\" class=\"dataframe\">\n",
       "  <thead>\n",
       "    <tr style=\"text-align: right;\">\n",
       "      <th></th>\n",
       "      <th>X</th>\n",
       "      <th>Y</th>\n",
       "      <th>LABEL</th>\n",
       "    </tr>\n",
       "  </thead>\n",
       "  <tbody>\n",
       "    <tr>\n",
       "      <th>0</th>\n",
       "      <td>2.248357</td>\n",
       "      <td>1.890164</td>\n",
       "      <td>0</td>\n",
       "    </tr>\n",
       "    <tr>\n",
       "      <th>1</th>\n",
       "      <td>1.930868</td>\n",
       "      <td>2.178556</td>\n",
       "      <td>0</td>\n",
       "    </tr>\n",
       "    <tr>\n",
       "      <th>2</th>\n",
       "      <td>2.323844</td>\n",
       "      <td>2.738947</td>\n",
       "      <td>0</td>\n",
       "    </tr>\n",
       "    <tr>\n",
       "      <th>3</th>\n",
       "      <td>2.761515</td>\n",
       "      <td>1.740865</td>\n",
       "      <td>0</td>\n",
       "    </tr>\n",
       "    <tr>\n",
       "      <th>4</th>\n",
       "      <td>1.882923</td>\n",
       "      <td>1.595753</td>\n",
       "      <td>0</td>\n",
       "    </tr>\n",
       "    <tr>\n",
       "      <th>...</th>\n",
       "      <td>...</td>\n",
       "      <td>...</td>\n",
       "      <td>...</td>\n",
       "    </tr>\n",
       "    <tr>\n",
       "      <th>395</th>\n",
       "      <td>4.551651</td>\n",
       "      <td>4.526576</td>\n",
       "      <td>4</td>\n",
       "    </tr>\n",
       "    <tr>\n",
       "      <th>396</th>\n",
       "      <td>4.057114</td>\n",
       "      <td>3.980222</td>\n",
       "      <td>4</td>\n",
       "    </tr>\n",
       "    <tr>\n",
       "      <th>397</th>\n",
       "      <td>4.075151</td>\n",
       "      <td>4.340750</td>\n",
       "      <td>4</td>\n",
       "    </tr>\n",
       "    <tr>\n",
       "      <th>398</th>\n",
       "      <td>3.818194</td>\n",
       "      <td>4.014159</td>\n",
       "      <td>4</td>\n",
       "    </tr>\n",
       "    <tr>\n",
       "      <th>399</th>\n",
       "      <td>3.971527</td>\n",
       "      <td>4.014878</td>\n",
       "      <td>4</td>\n",
       "    </tr>\n",
       "  </tbody>\n",
       "</table>\n",
       "<p>400 rows × 3 columns</p>\n",
       "</div>"
      ],
      "text/plain": [
       "            X         Y  LABEL\n",
       "0    2.248357  1.890164      0\n",
       "1    1.930868  2.178556      0\n",
       "2    2.323844  2.738947      0\n",
       "3    2.761515  1.740865      0\n",
       "4    1.882923  1.595753      0\n",
       "..        ...       ...    ...\n",
       "395  4.551651  4.526576      4\n",
       "396  4.057114  3.980222      4\n",
       "397  4.075151  4.340750      4\n",
       "398  3.818194  4.014159      4\n",
       "399  3.971527  4.014878      4\n",
       "\n",
       "[400 rows x 3 columns]"
      ]
     },
     "execution_count": 3,
     "metadata": {},
     "output_type": "execute_result"
    }
   ],
   "source": [
    "data = pd.read_csv('data.csv')\n",
    "print(df.shape) # 400 input-output combinations for the total dataset\n",
    "df.head(df.shape[0])"
   ]
  },
  {
   "cell_type": "code",
   "execution_count": 4,
   "id": "e9c2a4b5",
   "metadata": {
    "execution": {
     "iopub.execute_input": "2025-08-22T10:41:44.613337Z",
     "iopub.status.busy": "2025-08-22T10:41:44.612739Z",
     "iopub.status.idle": "2025-08-22T10:41:44.616701Z",
     "shell.execute_reply": "2025-08-22T10:41:44.616154Z"
    },
    "papermill": {
     "duration": 0.008557,
     "end_time": "2025-08-22T10:41:44.617819",
     "exception": false,
     "start_time": "2025-08-22T10:41:44.609262",
     "status": "completed"
    },
    "tags": []
   },
   "outputs": [],
   "source": [
    "# one-hot encoding for labels 0–4\n",
    "def normalize(label):\n",
    "    if label == 0:\n",
    "        return [1, 0, 0, 0, 0]\n",
    "    elif label == 1:\n",
    "        return [0, 1, 0, 0, 0]\n",
    "    elif label == 2:\n",
    "        return [0, 0, 1, 0, 0]\n",
    "    elif label == 3:\n",
    "        return [0, 0, 0, 1, 0]\n",
    "    elif label == 4:\n",
    "        return [0, 0, 0, 0, 1]"
   ]
  },
  {
   "cell_type": "code",
   "execution_count": 5,
   "id": "b69f9336",
   "metadata": {
    "execution": {
     "iopub.execute_input": "2025-08-22T10:41:44.624205Z",
     "iopub.status.busy": "2025-08-22T10:41:44.623770Z",
     "iopub.status.idle": "2025-08-22T10:41:44.627911Z",
     "shell.execute_reply": "2025-08-22T10:41:44.627386Z"
    },
    "papermill": {
     "duration": 0.00825,
     "end_time": "2025-08-22T10:41:44.628855",
     "exception": false,
     "start_time": "2025-08-22T10:41:44.620605",
     "status": "completed"
    },
    "tags": []
   },
   "outputs": [],
   "source": [
    "X1 = df[\"X\"].values.tolist()\n",
    "X2 = df[\"Y\"].values.tolist()\n",
    "Y  = df[\"LABEL\"].values.tolist()"
   ]
  },
  {
   "cell_type": "code",
   "execution_count": 6,
   "id": "0d4100df",
   "metadata": {
    "execution": {
     "iopub.execute_input": "2025-08-22T10:41:44.635088Z",
     "iopub.status.busy": "2025-08-22T10:41:44.634906Z",
     "iopub.status.idle": "2025-08-22T10:41:45.195283Z",
     "shell.execute_reply": "2025-08-22T10:41:45.194582Z"
    },
    "papermill": {
     "duration": 0.56474,
     "end_time": "2025-08-22T10:41:45.196531",
     "exception": false,
     "start_time": "2025-08-22T10:41:44.631791",
     "status": "completed"
    },
    "tags": []
   },
   "outputs": [
    {
     "data": {
      "image/png": "[encoded data removed]",
      "text/plain": [
       "<Figure size 1000x1000 with 1 Axes>"
      ]
     },
     "metadata": {},
     "output_type": "display_data"
    }
   ],
   "source": [
    "#plotting all points\n",
    "\n",
    "plt.figure(figsize=(10,10))\n",
    "for i in range(len(Y)):\n",
    "    if Y[i] == 0:\n",
    "        plt.plot(X1[i], X2[i], c=\"red\", marker=\"+\")\n",
    "    elif Y[i] == 1:\n",
    "        plt.plot(X1[i], X2[i], c=\"green\", marker=\"*\")\n",
    "    elif Y[i] == 2:\n",
    "        plt.plot(X1[i], X2[i], c=\"blue\", marker=\"x\")\n",
    "    elif Y[i] == 3:\n",
    "        plt.plot(X1[i], X2[i], c=\"black\", marker=\"1\")\n",
    "    elif Y[i] == 4:\n",
    "        plt.plot(X1[i], X2[i], c=\"magenta\", marker=\".\")\n",
    "plt.title(\"Scatter plot of dataset\")\n",
    "plt.show()"
   ]
  },
  {
   "cell_type": "code",
   "execution_count": 7,
   "id": "263e0f40",
   "metadata": {
    "execution": {
     "iopub.execute_input": "2025-08-22T10:41:45.204643Z",
     "iopub.status.busy": "2025-08-22T10:41:45.204209Z",
     "iopub.status.idle": "2025-08-22T10:41:45.207711Z",
     "shell.execute_reply": "2025-08-22T10:41:45.207233Z"
    },
    "papermill": {
     "duration": 0.008503,
     "end_time": "2025-08-22T10:41:45.208755",
     "exception": false,
     "start_time": "2025-08-22T10:41:45.200252",
     "status": "completed"
    },
    "tags": []
   },
   "outputs": [],
   "source": [
    "features = list(zip(X1, X2)) #zipping the 2 input features into a list\n",
    "\n",
    "features_np = np.array(features) #converting the list into a numpy array"
   ]
  },
  {
   "cell_type": "code",
   "execution_count": 8,
   "id": "bde6b410",
   "metadata": {
    "execution": {
     "iopub.execute_input": "2025-08-22T10:41:45.216150Z",
     "iopub.status.busy": "2025-08-22T10:41:45.215768Z",
     "iopub.status.idle": "2025-08-22T10:41:45.219240Z",
     "shell.execute_reply": "2025-08-22T10:41:45.218735Z"
    },
    "papermill": {
     "duration": 0.008424,
     "end_time": "2025-08-22T10:41:45.220413",
     "exception": false,
     "start_time": "2025-08-22T10:41:45.211989",
     "status": "completed"
    },
    "tags": []
   },
   "outputs": [],
   "source": [
    "# normalizing the output labels to be one-hot encoded and\n",
    " # turning it into a numpy array\n",
    "\n",
    "Y2 = np.array([normalize(i) for i in Y])"
   ]
  },
  {
   "cell_type": "code",
   "execution_count": 9,
   "id": "8bc1fd8b",
   "metadata": {
    "execution": {
     "iopub.execute_input": "2025-08-22T10:41:45.227780Z",
     "iopub.status.busy": "2025-08-22T10:41:45.227601Z",
     "iopub.status.idle": "2025-08-22T10:41:45.232230Z",
     "shell.execute_reply": "2025-08-22T10:41:45.231758Z"
    },
    "papermill": {
     "duration": 0.009437,
     "end_time": "2025-08-22T10:41:45.233151",
     "exception": false,
     "start_time": "2025-08-22T10:41:45.223714",
     "status": "completed"
    },
    "tags": []
   },
   "outputs": [],
   "source": [
    "\n",
    "# Combine features and labels\n",
    "combined = list(zip(features_np, Y2))\n",
    "np.random.shuffle(combined)\n",
    "\n",
    "# Unzip back\n",
    "features_np, Y2 = zip(*combined)\n",
    "features_np = np.array(features_np)\n",
    "Y2 = np.array(Y2)\n",
    "\n",
    "# 80:20 split\n",
    "split = int(0.8 * len(features_np))\n",
    "features_train, features_test = features_np[:split], features_np[split:]\n",
    "Y2_train, Y2_test = Y2[:split], Y2[split:]\n"
   ]
  },
  {
   "cell_type": "markdown",
   "id": "83e2cc78",
   "metadata": {
    "papermill": {
     "duration": 0.003043,
     "end_time": "2025-08-22T10:41:45.239327",
     "exception": false,
     "start_time": "2025-08-22T10:41:45.236284",
     "status": "completed"
    },
    "tags": []
   },
   "source": [
    "# Neural Network - Training & testing"
   ]
  },
  {
   "cell_type": "code",
   "execution_count": 10,
   "id": "beb6d9f0",
   "metadata": {
    "execution": {
     "iopub.execute_input": "2025-08-22T10:41:45.247429Z",
     "iopub.status.busy": "2025-08-22T10:41:45.247213Z",
     "iopub.status.idle": "2025-08-22T10:41:45.255456Z",
     "shell.execute_reply": "2025-08-22T10:41:45.254948Z"
    },
    "papermill": {
     "duration": 0.012986,
     "end_time": "2025-08-22T10:41:45.256385",
     "exception": false,
     "start_time": "2025-08-22T10:41:45.243399",
     "status": "completed"
    },
    "tags": []
   },
   "outputs": [],
   "source": [
    "class NeuralNetwork:\n",
    "    def __init__(self, activation_type='relu', learning_rate=0.01):\n",
    "        # Layer sizes\n",
    "        inputLayerNeurons = 2\n",
    "        hidden1Neurons = 20\n",
    "        hidden2Neurons = 20\n",
    "        hidden3Neurons = 20\n",
    "        outLayerNeurons = 5\n",
    "        \n",
    "        self.activation_type = activation_type\n",
    "        self.learning_rate = learning_rate\n",
    "        \n",
    "        # Random weight initialization\n",
    "        self.W_H1 = np.random.randn(inputLayerNeurons, hidden1Neurons)\n",
    "        self.W_H2 = np.random.randn(hidden1Neurons, hidden2Neurons)\n",
    "        self.W_H3 = np.random.randn(hidden2Neurons, hidden3Neurons)\n",
    "        self.W_O  = np.random.randn(hidden3Neurons, outLayerNeurons)\n",
    "    \n",
    "    def activation(self, x, der=False):\n",
    "        if self.activation_type == 'sigmoid':\n",
    "            if der:\n",
    "                return np.exp(-x) / (1 + np.exp(-x))**2\n",
    "            return 1 / (1 + np.exp(-x))\n",
    "        if self.activation_type == 'relu':\n",
    "            if der:\n",
    "                return np.where(x > 0, 1, 0)\n",
    "            return np.maximum(0, x)\n",
    "    \n",
    "    def softmax(self, x):\n",
    "        exp_x = np.exp(x - np.max(x, axis=1, keepdims=True))\n",
    "        return exp_x / np.sum(exp_x, axis=1, keepdims=True)\n",
    "    \n",
    "    def feedForward(self, X):\n",
    "        self.H1_out = self.activation(np.dot(X, self.W_H1))\n",
    "        self.H2_out = self.activation(np.dot(self.H1_out, self.W_H2))\n",
    "        self.H3_out = self.activation(np.dot(self.H2_out, self.W_H3))\n",
    "        self.output = self.softmax(np.dot(self.H3_out, self.W_O))\n",
    "        return self.output\n",
    "    \n",
    "    def backPropagation(self, X, Y, pred):\n",
    "        output_error = Y - pred\n",
    "        output_delta = self.learning_rate * output_error\n",
    "        \n",
    "        H3_error = output_delta.dot(self.W_O.T)\n",
    "        H3_delta = self.learning_rate * H3_error * self.activation(self.H3_out, der=True)\n",
    "        \n",
    "        H2_error = H3_delta.dot(self.W_H3.T)\n",
    "        H2_delta = self.learning_rate * H2_error * self.activation(self.H2_out, der=True)\n",
    "        \n",
    "        H1_error = H2_delta.dot(self.W_H2.T)\n",
    "        H1_delta = self.learning_rate * H1_error * self.activation(self.H1_out, der=True)\n",
    "        \n",
    "        # Update weights\n",
    "        self.W_H1 += X.T.dot(H1_delta)\n",
    "        self.W_H2 += self.H1_out.T.dot(H2_delta)\n",
    "        self.W_H3 += self.H2_out.T.dot(H3_delta)\n",
    "        self.W_O  += self.H3_out.T.dot(output_delta)\n",
    "    \n",
    "    def train(self, X, Y):\n",
    "        pred = self.feedForward(X)\n",
    "        self.backPropagation(X, Y, pred)\n"
   ]
  },
  {
   "cell_type": "markdown",
   "id": "0826e833",
   "metadata": {
    "papermill": {
     "duration": 0.002982,
     "end_time": "2025-08-22T10:41:45.262551",
     "exception": false,
     "start_time": "2025-08-22T10:41:45.259569",
     "status": "completed"
    },
    "tags": []
   },
   "source": [
    "# Training and Evaluation"
   ]
  },
  {
   "cell_type": "code",
   "execution_count": 11,
   "id": "621dc8a2",
   "metadata": {
    "execution": {
     "iopub.execute_input": "2025-08-22T10:41:45.269562Z",
     "iopub.status.busy": "2025-08-22T10:41:45.269372Z",
     "iopub.status.idle": "2025-08-22T10:42:05.730841Z",
     "shell.execute_reply": "2025-08-22T10:42:05.730211Z"
    },
    "papermill": {
     "duration": 20.466271,
     "end_time": "2025-08-22T10:42:05.732023",
     "exception": false,
     "start_time": "2025-08-22T10:41:45.265752",
     "status": "completed"
    },
    "tags": []
   },
   "outputs": [
    {
     "name": "stdout",
     "output_type": "stream",
     "text": [
      "Epoch 0, Loss: 6.1113\n",
      "Epoch 1000, Loss: 0.2454\n",
      "Epoch 2000, Loss: 0.1520\n",
      "Epoch 3000, Loss: 0.1086\n",
      "Epoch 4000, Loss: 0.0841\n",
      "Epoch 5000, Loss: 0.0685\n",
      "Epoch 6000, Loss: 0.0576\n",
      "Epoch 7000, Loss: 0.0496\n",
      "Epoch 8000, Loss: 0.0436\n",
      "Epoch 9000, Loss: 0.0388\n",
      "Epoch 10000, Loss: 0.0350\n",
      "Epoch 11000, Loss: 0.0318\n",
      "Epoch 12000, Loss: 0.0292\n",
      "Epoch 13000, Loss: 0.0270\n",
      "Epoch 14000, Loss: 0.0251\n"
     ]
    },
    {
     "data": {
      "image/png": "[encoded data removed]",
      "text/plain": [
       "<Figure size 800x500 with 1 Axes>"
      ]
     },
     "metadata": {},
     "output_type": "display_data"
    }
   ],
   "source": [
    "NN = NeuralNetwork(activation_type='sigmoid', learning_rate=0.01)\n",
    "\n",
    "#NN = NeuralNetwork(activation_type='relu', learning_rate=0.01)\n",
    "\n",
    "# Cross-entropy loss function\n",
    "def crossentropy(pred, Y_true):\n",
    "    pred = np.clip(pred, 1e-8, 1.0 - 1e-8)\n",
    "    return np.mean(-np.sum(Y_true * np.log(pred), axis=1))\n",
    "\n",
    "# Training\n",
    "epochs = 15000\n",
    "loss_history = []\n",
    "\n",
    "for i in range(epochs):\n",
    "    NN.train(features_train, Y2_train)\n",
    "    pred_train = NN.feedForward(features_train)\n",
    "    loss = crossentropy(pred_train, Y2_train)\n",
    "    \n",
    "    if i % 1000 == 0:\n",
    "        loss_history.append(loss)\n",
    "        print(f\"Epoch {i}, Loss: {loss:.4f}\")\n",
    "\n",
    "# Plot training loss\n",
    "plt.figure(figsize=(8,5))\n",
    "plt.plot(range(0, epochs, 1000), loss_history, marker='o')\n",
    "plt.title(\"Training Loss (3-Layer NN + Sigmoid)\")\n",
    "plt.xlabel(\"Epoch\")\n",
    "plt.ylabel(\"Cross-Entropy Loss\")\n",
    "plt.grid(True)\n",
    "plt.show()\n"
   ]
  },
  {
   "cell_type": "markdown",
   "id": "1a5eb8f1",
   "metadata": {
    "papermill": {
     "duration": 0.004606,
     "end_time": "2025-08-22T10:42:05.743775",
     "exception": false,
     "start_time": "2025-08-22T10:42:05.739169",
     "status": "completed"
    },
    "tags": []
   },
   "source": [
    "# Performance Metrics"
   ]
  },
  {
   "cell_type": "code",
   "execution_count": 12,
   "id": "196b7223",
   "metadata": {
    "execution": {
     "iopub.execute_input": "2025-08-22T10:42:05.755284Z",
     "iopub.status.busy": "2025-08-22T10:42:05.754613Z",
     "iopub.status.idle": "2025-08-22T10:42:05.770915Z",
     "shell.execute_reply": "2025-08-22T10:42:05.770012Z"
    },
    "papermill": {
     "duration": 0.023126,
     "end_time": "2025-08-22T10:42:05.772017",
     "exception": false,
     "start_time": "2025-08-22T10:42:05.748891",
     "status": "completed"
    },
    "tags": []
   },
   "outputs": [
    {
     "name": "stdout",
     "output_type": "stream",
     "text": [
      "Overall Accuracy: 0.9875\n",
      "Class 0: Precision=1.00, Recall=1.00, F1=1.00\n",
      "Class 1: Precision=1.00, Recall=1.00, F1=1.00\n",
      "Class 2: Precision=1.00, Recall=1.00, F1=1.00\n",
      "Class 3: Precision=1.00, Recall=0.95, F1=0.97\n",
      "Class 4: Precision=0.93, Recall=1.00, F1=0.96\n",
      "\n",
      "Classification Report:\n",
      "\n",
      "              precision    recall  f1-score   support\n",
      "\n",
      "           0       1.00      1.00      1.00        17\n",
      "           1       1.00      1.00      1.00        15\n",
      "           2       1.00      1.00      1.00        16\n",
      "           3       1.00      0.95      0.97        19\n",
      "           4       0.93      1.00      0.96        13\n",
      "\n",
      "    accuracy                           0.99        80\n",
      "   macro avg       0.99      0.99      0.99        80\n",
      "weighted avg       0.99      0.99      0.99        80\n",
      "\n"
     ]
    }
   ],
   "source": [
    "pred_test = NN.feedForward(features_test)\n",
    "Y_pred = np.argmax(pred_test, axis=1)\n",
    "Y_true = np.argmax(Y2_test, axis=1)\n",
    "\n",
    "# Evaluation\n",
    "accuracy = accuracy_score(Y_true, Y_pred)\n",
    "precision = precision_score(Y_true, Y_pred, average=None, zero_division=0)\n",
    "recall = recall_score(Y_true, Y_pred, average=None, zero_division=0)\n",
    "f1 = f1_score(Y_true, Y_pred, average=None, zero_division=0)\n",
    "\n",
    "print(f\"Overall Accuracy: {accuracy:.4f}\")\n",
    "for i, p in enumerate(precision):\n",
    "    print(f\"Class {i}: Precision={p:.2f}, Recall={recall[i]:.2f}, F1={f1[i]:.2f}\")\n",
    "\n",
    "print(\"\\nClassification Report:\\n\")\n",
    "print(classification_report(Y_true, Y_pred, zero_division=0))\n"
   ]
  },
  {
   "cell_type": "code",
   "execution_count": 13,
   "id": "a7f07d3e",
   "metadata": {
    "execution": {
     "iopub.execute_input": "2025-08-22T10:42:05.782060Z",
     "iopub.status.busy": "2025-08-22T10:42:05.781857Z",
     "iopub.status.idle": "2025-08-22T10:42:05.983762Z",
     "shell.execute_reply": "2025-08-22T10:42:05.983036Z"
    },
    "papermill": {
     "duration": 0.208163,
     "end_time": "2025-08-22T10:42:05.984869",
     "exception": false,
     "start_time": "2025-08-22T10:42:05.776706",
     "status": "completed"
    },
    "tags": []
   },
   "outputs": [
    {
     "data": {
      "image/png": "[encoded data removed]",
      "text/plain": [
       "<Figure size 1000x1000 with 1 Axes>"
      ]
     },
     "metadata": {},
     "output_type": "display_data"
    }
   ],
   "source": [
    "colors = ['red', 'green', 'blue', 'black', 'magenta']\n",
    "markers = ['+', '*', 'x', '1', '.']\n",
    "\n",
    "plt.figure(figsize=(10,10))\n",
    "for i in range(len(features_test)):\n",
    "    label = Y_pred[i]\n",
    "    plt.plot(features_test[i][0], features_test[i][1], c=colors[label], marker=markers[label])\n",
    "\n",
    "plt.title(\"Test Set Predictions (3-Layer NN)\")\n",
    "plt.show()"
   ]
  }
 ],
 "metadata": {
  "kaggle": {
   "accelerator": "gpu",
   "dataSources": [],
   "dockerImageVersionId": 31089,
   "isGpuEnabled": true,
   "isInternetEnabled": true,
   "language": "python",
   "sourceType": "notebook"
  },
  "kernelspec": {
   "display_name": "Python 3",
   "language": "python",
   "name": "python3"
  },
  "language_info": {
   "codemirror_mode": {
    "name": "ipython",
    "version": 3
   },
   "file_extension": ".py",
   "mimetype": "text/x-python",
   "name": "python",
   "nbconvert_exporter": "python",
   "pygments_lexer": "ipython3",
   "version": "3.11.13"
  },
  "papermill": {
   "default_parameters": {},
   "duration": 28.498011,
   "end_time": "2025-08-22T10:42:06.406702",
   "environment_variables": {},
   "exception": null,
   "input_path": "__notebook__.ipynb",
   "output_path": "__notebook__.ipynb",
   "parameters": {},
   "start_time": "2025-08-22T10:41:37.908691",
   "version": "2.6.0"
  }
 },
 "nbformat": 4,
 "nbformat_minor": 5
}
