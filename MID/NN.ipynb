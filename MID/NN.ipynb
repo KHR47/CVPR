{
 "cells": [
  {
   "cell_type": "markdown",
   "id": "8938cfff",
   "metadata": {
    "papermill": {
     "duration": 0.002541,
     "end_time": "2025-08-19T15:03:00.722769",
     "exception": false,
     "start_time": "2025-08-19T15:03:00.720228",
     "status": "completed"
    },
    "tags": []
   },
   "source": [
    "# Imports, seed, and data"
   ]
  },
  {
   "cell_type": "code",
   "execution_count": 1,
   "id": "9ebe6893",
   "metadata": {
    "execution": {
     "iopub.execute_input": "2025-08-19T15:03:00.728631Z",
     "iopub.status.busy": "2025-08-19T15:03:00.728270Z",
     "iopub.status.idle": "2025-08-19T15:03:00.736447Z",
     "shell.execute_reply": "2025-08-19T15:03:00.735607Z"
    },
    "papermill": {
     "duration": 0.012845,
     "end_time": "2025-08-19T15:03:00.738127",
     "exception": false,
     "start_time": "2025-08-19T15:03:00.725282",
     "status": "completed"
    },
    "tags": []
   },
   "outputs": [],
   "source": [
    "import numpy as np\n",
    "import matplotlib.pyplot as plt\n",
    "\n",
    "np.random.seed(0)\n",
    "\n",
    "X = np.array([[0,0],\n",
    "              [0,1],\n",
    "              [1,0],\n",
    "              [1,1]])\n",
    "Y = np.array([[0],\n",
    "              [1],\n",
    "              [1],\n",
    "              [0]])\n"
   ]
  },
  {
   "cell_type": "markdown",
   "id": "8c6cab77",
   "metadata": {
    "papermill": {
     "duration": 0.001839,
     "end_time": "2025-08-19T15:03:00.742252",
     "exception": false,
     "start_time": "2025-08-19T15:03:00.740413",
     "status": "completed"
    },
    "tags": []
   },
   "source": [
    "# Defining a 3-layer NeuralNetwork (Input → Hidden1 → Hidden2 → Output)"
   ]
  },
  {
   "cell_type": "code",
   "execution_count": 2,
   "id": "36746492",
   "metadata": {
    "execution": {
     "iopub.execute_input": "2025-08-19T15:03:00.747343Z",
     "iopub.status.busy": "2025-08-19T15:03:00.747048Z",
     "iopub.status.idle": "2025-08-19T15:03:00.755796Z",
     "shell.execute_reply": "2025-08-19T15:03:00.754877Z"
    },
    "papermill": {
     "duration": 0.01317,
     "end_time": "2025-08-19T15:03:00.757388",
     "exception": false,
     "start_time": "2025-08-19T15:03:00.744218",
     "status": "completed"
    },
    "tags": []
   },
   "outputs": [],
   "source": [
    "class NeuralNetwork(object):\n",
    "    def __init__(self):\n",
    "        input_neurons   = 2\n",
    "        hidden1_neurons = 10\n",
    "        hidden2_neurons = 8\n",
    "        output_neurons  = 1\n",
    "\n",
    "        self.learning_rate = 0.2\n",
    "\n",
    "        # Weights: Input→Hidden1, Hidden1→Hidden2, Hidden2→Output\n",
    "        self.W_HI = np.random.randn(input_neurons,   hidden1_neurons)\n",
    "        self.W_HH = np.random.randn(hidden1_neurons, hidden2_neurons)\n",
    "        self.W_OH = np.random.randn(hidden2_neurons, output_neurons)\n",
    "\n",
    "    def sigmoid(self, x, der=False):\n",
    "        if der:\n",
    "            return x * (1 - x)      \n",
    "        return 1 / (1 + np.exp(-x))\n",
    "\n",
    "    def feedForward(self, X):\n",
    "        # Hidden layer 1\n",
    "        h1_in = np.dot(X, self.W_HI)\n",
    "        self.h1_out = self.sigmoid(h1_in)\n",
    "\n",
    "        # Hidden layer 2\n",
    "        h2_in = np.dot(self.h1_out, self.W_HH)\n",
    "        self.h2_out = self.sigmoid(h2_in)\n",
    "\n",
    "        # Output layer\n",
    "        o_in = np.dot(self.h2_out, self.W_OH)\n",
    "        pred = self.sigmoid(o_in)\n",
    "        return pred\n",
    "\n",
    "    def backPropagation(self, X, Y, pred):\n",
    "        # Output layer delta\n",
    "        out_err   = Y - pred\n",
    "        out_delta = self.learning_rate * out_err * self.sigmoid(pred, der=True)\n",
    "\n",
    "        # Hidden2 layer delta\n",
    "        h2_err   = np.dot(out_delta, self.W_OH.T)\n",
    "        h2_delta = self.learning_rate * h2_err * self.sigmoid(self.h2_out, der=True)\n",
    "\n",
    "        # Hidden1 layer delta\n",
    "        h1_err   = np.dot(h2_delta, self.W_HH.T)\n",
    "        h1_delta = self.learning_rate * h1_err * self.sigmoid(self.h1_out, der=True)\n",
    "\n",
    "        # Weight updates\n",
    "        self.W_OH += np.dot(self.h2_out.T, out_delta)\n",
    "        self.W_HH += np.dot(self.h1_out.T, h2_delta)\n",
    "        self.W_HI += np.dot(X.T, h1_delta)\n",
    "\n",
    "    def train(self, X, Y):\n",
    "        pred = self.feedForward(X)\n",
    "        self.backPropagation(X, Y, pred)\n"
   ]
  },
  {
   "cell_type": "markdown",
   "id": "cd6870a9",
   "metadata": {
    "papermill": {
     "duration": 0.001917,
     "end_time": "2025-08-19T15:03:00.761519",
     "exception": false,
     "start_time": "2025-08-19T15:03:00.759602",
     "status": "completed"
    },
    "tags": []
   },
   "source": [
    "# **Training and plotting error** "
   ]
  },
  {
   "cell_type": "code",
   "execution_count": 3,
   "id": "83054dc8",
   "metadata": {
    "execution": {
     "iopub.execute_input": "2025-08-19T15:03:00.766816Z",
     "iopub.status.busy": "2025-08-19T15:03:00.766506Z",
     "iopub.status.idle": "2025-08-19T15:03:01.858718Z",
     "shell.execute_reply": "2025-08-19T15:03:01.857612Z"
    },
    "papermill": {
     "duration": 1.097286,
     "end_time": "2025-08-19T15:03:01.860682",
     "exception": false,
     "start_time": "2025-08-19T15:03:00.763396",
     "status": "completed"
    },
    "tags": []
   },
   "outputs": [
    {
     "data": {
      "image/png": "[encoded data removed]",
      "text/plain": [
       "<Figure size 640x480 with 1 Axes>"
      ]
     },
     "metadata": {},
     "output_type": "display_data"
    }
   ],
   "source": [
    "NN = NeuralNetwork()\n",
    "\n",
    "err = []\n",
    "for i in range(10000):\n",
    "    NN.train(X, Y)\n",
    "    e = np.mean(np.square(Y - NN.feedForward(X)))\n",
    "    err.append(e)\n",
    "\n",
    "plt.plot(err)\n",
    "plt.title(\"Training MSE\")\n",
    "plt.xlabel(\"Iteration\")\n",
    "plt.ylabel(\"MSE\")\n",
    "plt.show()\n"
   ]
  },
  {
   "cell_type": "markdown",
   "id": "8f7e34ad",
   "metadata": {
    "papermill": {
     "duration": 0.003138,
     "end_time": "2025-08-19T15:03:01.867070",
     "exception": false,
     "start_time": "2025-08-19T15:03:01.863932",
     "status": "completed"
    },
    "tags": []
   },
   "source": [
    "# Test predictions (XOR)"
   ]
  },
  {
   "cell_type": "code",
   "execution_count": 4,
   "id": "6ab1aa98",
   "metadata": {
    "execution": {
     "iopub.execute_input": "2025-08-19T15:03:01.874617Z",
     "iopub.status.busy": "2025-08-19T15:03:01.874313Z",
     "iopub.status.idle": "2025-08-19T15:03:01.882039Z",
     "shell.execute_reply": "2025-08-19T15:03:01.880806Z"
    },
    "papermill": {
     "duration": 0.012874,
     "end_time": "2025-08-19T15:03:01.883370",
     "exception": false,
     "start_time": "2025-08-19T15:03:01.870496",
     "status": "completed"
    },
    "tags": []
   },
   "outputs": [
    {
     "name": "stdout",
     "output_type": "stream",
     "text": [
      "[0.04013789]\n",
      "[0.0360294]\n",
      "[0.9567804]\n",
      "[0.96338823]\n"
     ]
    }
   ],
   "source": [
    "print(NN.feedForward([0,0]))\n",
    "print(NN.feedForward([1,1]))\n",
    "print(NN.feedForward([1,0]))\n",
    "print(NN.feedForward([0,1]))\n"
   ]
  },
  {
   "cell_type": "markdown",
   "id": "4da57afe",
   "metadata": {
    "papermill": {
     "duration": 0.002551,
     "end_time": "2025-08-19T15:03:01.888953",
     "exception": false,
     "start_time": "2025-08-19T15:03:01.886402",
     "status": "completed"
    },
    "tags": []
   },
   "source": [
    "# Conclusion"
   ]
  },
  {
   "cell_type": "markdown",
   "id": "368071b8",
   "metadata": {
    "papermill": {
     "duration": 0.002323,
     "end_time": "2025-08-19T15:03:01.893819",
     "exception": false,
     "start_time": "2025-08-19T15:03:01.891496",
     "status": "completed"
    },
    "tags": []
   },
   "source": [
    "- **2-layer NN (1 hidden layer):**\n",
    "  - Simpler architecture, fewer weights to train.\n",
    "  - Works fine for simple tasks (e.g., XOR).\n",
    "  - Struggles when dataset has many classes or complex nonlinear boundaries.\n",
    "\n",
    "- **3-layer NN (2+ hidden layers):**\n",
    "  - Deeper network with more representational power.\n",
    "  - Captures complex nonlinear patterns better.\n",
    "  - Achieved higher accuracy and lower error on this dataset.\n",
    "  - Slightly more computational cost, but the gain in performance justifies it.\n",
    "\n",
    "✅ Overall, the **3-layer NN outperforms the 2-layer NN** for multi-class classification due to its extra hidden layers, which allow it to learn more complex decision boundaries."
   ]
  }
 ],
 "metadata": {
  "kaggle": {
   "accelerator": "none",
   "dataSources": [],
   "dockerImageVersionId": 31089,
   "isGpuEnabled": false,
   "isInternetEnabled": true,
   "language": "python",
   "sourceType": "notebook"
  },
  "kernelspec": {
   "display_name": "Python 3",
   "language": "python",
   "name": "python3"
  },
  "language_info": {
   "codemirror_mode": {
    "name": "ipython",
    "version": 3
   },
   "file_extension": ".py",
   "mimetype": "text/x-python",
   "name": "python",
   "nbconvert_exporter": "python",
   "pygments_lexer": "ipython3",
   "version": "3.11.13"
  },
  "papermill": {
   "default_parameters": {},
   "duration": 6.618349,
   "end_time": "2025-08-19T15:03:02.315929",
   "environment_variables": {},
   "exception": null,
   "input_path": "__notebook__.ipynb",
   "output_path": "__notebook__.ipynb",
   "parameters": {},
   "start_time": "2025-08-19T15:02:55.697580",
   "version": "2.6.0"
  }
 },
 "nbformat": 4,
 "nbformat_minor": 5
}
