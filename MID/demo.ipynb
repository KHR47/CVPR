{
 "cells": [
  {
   "cell_type": "code",
   "execution_count": 2,
   "id": "7bba2bc9",
   "metadata": {},
   "outputs": [],
   "source": [
    "# Imports\n",
    "import numpy as np\n",
    "import cv2\n",
    "import matplotlib.pyplot as plt\n",
    "\n",
    "from tensorflow import keras\n",
    "\n"
   ]
  },
  {
   "cell_type": "code",
   "execution_count": 3,
   "id": "76726801",
   "metadata": {},
   "outputs": [
    {
     "name": "stderr",
     "output_type": "stream",
     "text": [
      "WARNING:absl:Compiled the loaded model, but the compiled metrics have yet to be built. `model.compile_metrics` will be empty until you train or evaluate the model.\n"
     ]
    },
    {
     "name": "stdout",
     "output_type": "stream",
     "text": [
      "Model loaded: digit_cnn.h5\n"
     ]
    }
   ],
   "source": [
    "MODEL_PATH = 'digit_cnn.h5'   # Make sure this file exists (exported from digit.ipynb)\n",
    "\n",
    "# Load model\n",
    "model = keras.models.load_model(MODEL_PATH)\n",
    "print(\"Model loaded:\", MODEL_PATH)\n"
   ]
  },
  {
   "cell_type": "code",
   "execution_count": 13,
   "id": "778f1016",
   "metadata": {},
   "outputs": [
    {
     "name": "stdout",
     "output_type": "stream",
     "text": [
      "Press 'c' to capture digit\n",
      "Predicted Digit: 5 | Confidence: 0.85\n"
     ]
    },
    {
     "data": {
      "image/png": "[encoded data removed]",
      "text/plain": [
       "<Figure size 400x200 with 2 Axes>"
      ]
     },
     "metadata": {},
     "output_type": "display_data"
    }
   ],
   "source": [
    "\n",
    "# Resize and center function\n",
    "\n",
    "def resize_and_center(img, size=28):\n",
    "    h, w = img.shape\n",
    "    scale = size / max(h, w)             # Scale digit so largest side = 28\n",
    "    new_h, new_w = int(h*scale), int(w*scale)\n",
    "    resized = cv2.resize(img, (new_w, new_h))   # Resize while keeping aspect ratio\n",
    "\n",
    "    # Create blank black 28x28 canvas\n",
    "    canvas = np.zeros((size, size), dtype=np.uint8)\n",
    "\n",
    "    # Center the resized digit inside the canvas\n",
    "    start_y = (size - new_h) // 2\n",
    "    start_x = (size - new_w) // 2\n",
    "    canvas[start_y:start_y+new_h, start_x:start_x+new_w] = resized\n",
    "    return canvas\n",
    "\n",
    "\n",
    "\n",
    "# Preprocess captured frame\n",
    "\n",
    "def preprocess_digit(frame):\n",
    "    gray = cv2.cvtColor(frame, cv2.COLOR_BGR2GRAY)    # Convert to grayscale\n",
    "    gray = cv2.GaussianBlur(gray, (5,5), 0)           # Blur to remove noise\n",
    "\n",
    "    # Adaptive threshold → white digit on black background\n",
    "    thresh = cv2.adaptiveThreshold(gray, 255, cv2.ADAPTIVE_THRESH_GAUSSIAN_C,\n",
    "                                   cv2.THRESH_BINARY_INV, 11, 2)\n",
    "    \n",
    "    # Find contours (shapes) → biggest one should be the digit\n",
    "    contours, _ = cv2.findContours(thresh, cv2.RETR_EXTERNAL, cv2.CHAIN_APPROX_SIMPLE)\n",
    "    if len(contours) == 0:\n",
    "        return None, None, None   # No digit found\n",
    "    \n",
    "    # Largest contour = digit\n",
    "    c = max(contours, key=cv2.contourArea)\n",
    "    x, y, w, h = cv2.boundingRect(c)\n",
    "    \n",
    "    # Added padding around the digit\n",
    "    PAD = 10\n",
    "    x = max(x - PAD, 0)\n",
    "    y = max(y - PAD, 0)\n",
    "    w = w + 2*PAD\n",
    "    h = h + 2*PAD\n",
    "    digit = thresh[y:y+h, x:x+w]\n",
    "    \n",
    "    # Resize to 28x28 and normalize\n",
    "    digit28 = resize_and_center(digit)\n",
    "    normalized = digit28 / 255.0\n",
    "\n",
    "    # Returns 3 things:\n",
    "    # (1) Preprocessed image for prediction\n",
    "    # (2) Original gray image for display\n",
    "    # (3) Final 28x28 digit for display\n",
    "    return normalized.reshape(1,28,28,1), gray, digit28\n",
    "\n",
    "\n",
    "\n",
    "# Opening webcam and capture once\n",
    "\n",
    "cap = cv2.VideoCapture(0)\n",
    "if not cap.isOpened():\n",
    "    print(\"  Cannot open webcam\")\n",
    "else:\n",
    "    print(\"Press 'c' to capture digit\")\n",
    "\n",
    "while True:\n",
    "    ret, frame = cap.read()\n",
    "    if not ret:\n",
    "        print(\"  Failed to grab frame\")\n",
    "        break\n",
    "    \n",
    "    # Show live webcam feed\n",
    "    cv2.imshow(\"Webcam - Press 'c' to capture\", frame)\n",
    "    key = cv2.waitKey(1) & 0xFF\n",
    "    \n",
    "    # If user presses 'c' → capture\n",
    "    if key == ord('c'):\n",
    "        input_img, gray, digit28 = preprocess_digit(frame)\n",
    "        if input_img is None:\n",
    "            print(\"  No digit detected. Try again\")\n",
    "        else:\n",
    "            # Make prediction\n",
    "            probs = model.predict(input_img, verbose=0)[0]\n",
    "            pred = np.argmax(probs)\n",
    "            conf = np.max(probs)\n",
    "            print(f\"Predicted Digit: {pred} | Confidence: {conf:.2f}\")\n",
    "\n",
    "            # Show what was captured and what the model saw\n",
    "            import matplotlib.pyplot as plt\n",
    "            plt.figure(figsize=(4,2))\n",
    "            \n",
    "            plt.subplot(1,2,1)\n",
    "            plt.imshow(gray, cmap='gray')\n",
    "            plt.title('Captured (gray)')\n",
    "            plt.axis('off')\n",
    "            \n",
    "            plt.subplot(1,2,2)\n",
    "            plt.imshow(digit28, cmap='gray')\n",
    "            plt.title(f'28x28 → Pred: {pred}')\n",
    "            plt.axis('off')\n",
    "            \n",
    "            plt.tight_layout()\n",
    "            plt.show()\n",
    "        break  # Exit after one capture\n",
    "\n",
    "cap.release()\n",
    "cv2.destroyAllWindows()\n"
   ]
  }
 ],
 "metadata": {
  "kernelspec": {
   "display_name": "Python 3",
   "language": "python",
   "name": "python3"
  },
  "language_info": {
   "codemirror_mode": {
    "name": "ipython",
    "version": 3
   },
   "file_extension": ".py",
   "mimetype": "text/x-python",
   "name": "python",
   "nbconvert_exporter": "python",
   "pygments_lexer": "ipython3",
   "version": "3.13.0"
  }
 },
 "nbformat": 4,
 "nbformat_minor": 5
}
